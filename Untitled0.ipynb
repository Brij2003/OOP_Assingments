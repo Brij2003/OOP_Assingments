{
  "nbformat": 4,
  "nbformat_minor": 0,
  "metadata": {
    "colab": {
      "name": "Untitled0.ipynb",
      "provenance": [],
      "authorship_tag": "ABX9TyNBp6FKtUmt0qwqzV5REYRB",
      "include_colab_link": true
    },
    "kernelspec": {
      "name": "python3",
      "display_name": "Python 3"
    },
    "language_info": {
      "name": "python"
    }
  },
  "cells": [
    {
      "cell_type": "markdown",
      "metadata": {
        "id": "view-in-github",
        "colab_type": "text"
      },
      "source": [
        "<a href=\"https://colab.research.google.com/github/Brij2003/Python-Basics/blob/main/Untitled0.ipynb\" target=\"_parent\"><img src=\"https://colab.research.google.com/assets/colab-badge.svg\" alt=\"Open In Colab\"/></a>"
      ]
    },
    {
      "cell_type": "code",
      "metadata": {
        "id": "OvG8Q6yOT7Sq",
        "colab": {
          "base_uri": "https://localhost:8080/"
        },
        "outputId": "72de2e8c-f83a-4695-aba8-ee65954ca982"
      },
      "source": [
        "print(\"hi\")"
      ],
      "execution_count": null,
      "outputs": [
        {
          "output_type": "stream",
          "text": [
            "hi\n"
          ],
          "name": "stdout"
        }
      ]
    },
    {
      "cell_type": "code",
      "metadata": {
        "id": "ZyCFwUvUK361",
        "colab": {
          "base_uri": "https://localhost:8080/"
        },
        "outputId": "a82f689e-9adc-4500-b42b-d8a1a3647e78"
      },
      "source": [
        "m = 15\n",
        "n = 4\n",
        "\n",
        "# Output: m + n = 19\n",
        "print('m + n =',m+n)\n",
        "\n",
        "# Output: m - n = 11\n",
        "print('m - n =',m-n)\n",
        "\n",
        "# Output: m * n = 60\n",
        "print('m * n =',m*n)\n",
        "\n",
        "# Output: m / n = 3.75\n",
        "print('m / n =',m/n)\n",
        "\n",
        "# Output: m // n = 3\n",
        "print('m // n =',m//n)\n",
        "\n",
        "# Output: m ** n = 50625\n",
        "print('m ** n =',m**n)"
      ],
      "execution_count": null,
      "outputs": [
        {
          "output_type": "stream",
          "text": [
            "m + n = 19\n",
            "m - n = 11\n",
            "m * n = 60\n",
            "m / n = 3.75\n",
            "m // n = 3\n",
            "m ** n = 50625\n"
          ],
          "name": "stdout"
        }
      ]
    },
    {
      "cell_type": "code",
      "metadata": {
        "colab": {
          "base_uri": "https://localhost:8080/"
        },
        "id": "JkuO5X9nLxsp",
        "outputId": "4bd7b5fc-2893-47d1-bf56-3315a6b5b51f"
      },
      "source": [
        "x = True\n",
        "y = False\n",
        "\n",
        "print(\"x and y is\",m and n)\n",
        "\n",
        "print(\"x or y is\",x or y)\n",
        "\n",
        "print(\"not x is\",not x)"
      ],
      "execution_count": null,
      "outputs": [
        {
          "output_type": "stream",
          "text": [
            "x and y is False\n",
            "x or y is True\n",
            "not x is False\n"
          ],
          "name": "stdout"
        }
      ]
    },
    {
      "cell_type": "code",
      "metadata": {
        "id": "tCq21AYRMrOT",
        "colab": {
          "base_uri": "https://localhost:8080/"
        },
        "outputId": "2a1b55d8-25da-46cd-f992-d708282d4514"
      },
      "source": [
        "x = 'Hello world'\n",
        "y = {1:'a',2:'b'}\n",
        "\n",
        "# Output: True\n",
        "print('H' in x)\n",
        "\n",
        "# Output: True\n",
        "print('hello' not in x)\n",
        "\n",
        "# Output: True\n",
        "print(1 in y)\n",
        "\n",
        "# Output: False\n",
        "print('a' in y)"
      ],
      "execution_count": null,
      "outputs": [
        {
          "output_type": "stream",
          "text": [
            "True\n",
            "True\n",
            "True\n",
            "False\n"
          ],
          "name": "stdout"
        }
      ]
    }
  ]
}