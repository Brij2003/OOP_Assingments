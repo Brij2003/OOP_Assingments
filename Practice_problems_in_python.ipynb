{
  "nbformat": 4,
  "nbformat_minor": 0,
  "metadata": {
    "colab": {
      "name": "Practice problems in python.ipynb",
      "provenance": [],
      "authorship_tag": "ABX9TyMCGWcIXCY/nczm/At+Xf/S",
      "include_colab_link": true
    },
    "kernelspec": {
      "name": "python3",
      "display_name": "Python 3"
    },
    "language_info": {
      "name": "python"
    }
  },
  "cells": [
    {
      "cell_type": "markdown",
      "metadata": {
        "id": "view-in-github",
        "colab_type": "text"
      },
      "source": [
        "<a href=\"https://colab.research.google.com/github/Brij2003/OOP_Assingments/blob/main/Practice_problems_in_python.ipynb\" target=\"_parent\"><img src=\"https://colab.research.google.com/assets/colab-badge.svg\" alt=\"Open In Colab\"/></a>"
      ]
    },
    {
      "cell_type": "code",
      "metadata": {
        "id": "Cr8xsXh00aFu"
      },
      "source": [
        "#1. what is Static Variable?\n",
        "# Answer : The variable which are initialized only once during the program execution \n",
        "# here animal is a static variable\n",
        "class Duck:\n",
        "    animal = TRUE\n",
        "    def __init__(self):\n",
        "        self.animal_group = 'Bird'\n",
        "        self.sound = 'Quack!'\n",
        "        self.legs = 2"
      ],
      "execution_count": null,
      "outputs": []
    },
    {
      "cell_type": "code",
      "metadata": {
        "colab": {
          "base_uri": "https://localhost:8080/"
        },
        "id": "oC7G2rsx1ii3",
        "outputId": "6f97ca7a-4fc7-4e54-d014-3a05196ba442"
      },
      "source": [
        "#problem 2 : fill in the blank\n",
        "\n",
        "class Wolf:\n",
        "    def __init__(self):\n",
        "    \tself.sound = 'Welcome'   \n",
        "    def MakeSound(self):\n",
        "    \treturn self.sound\n",
        "wolf_obj = Wolf()\n",
        "print(wolf_obj.MakeSound())\n",
        "# print is answer\n",
        "#output is welcome"
      ],
      "execution_count": 3,
      "outputs": [
        {
          "output_type": "stream",
          "name": "stdout",
          "text": [
            "Welcome\n"
          ]
        }
      ]
    },
    {
      "cell_type": "code",
      "metadata": {
        "colab": {
          "base_uri": "https://localhost:8080/"
        },
        "id": "Sfos_gQY11TM",
        "outputId": "79dbcb37-2535-4ebc-f8fe-29e6136cc4b6"
      },
      "source": [
        "#3. Problem . What is the output?\n",
        "class Cat:\n",
        "    def __init__(self):\n",
        "    \tprint('Cat object: Meow!')\n",
        "cat_obj = Cat()\n",
        "# output is srtring 'Cat object: Meow!' as we are calling the __init__ constructor"
      ],
      "execution_count": 2,
      "outputs": [
        {
          "output_type": "stream",
          "name": "stdout",
          "text": [
            "Cat object: Meow!\n"
          ]
        }
      ]
    },
    {
      "cell_type": "code",
      "metadata": {
        "colab": {
          "base_uri": "https://localhost:8080/"
        },
        "id": "3gPf-U_R2cPm",
        "outputId": "edcf03f2-b50f-41ab-e34b-e2d23b96a266"
      },
      "source": [
        "# Problem 4. Fill in the blanks\n",
        "# what is the output ?\n",
        "import numpy as np\n",
        "\n",
        "class MaxVal:\n",
        "  def __init__(self, array_1):\n",
        "    self.A = array_1  \n",
        "  def MaximumValue(self):\n",
        "    \"\"\"Returns the maximum \n",
        "    value of an array.\"\"\"\n",
        "    return np.amax(self.A)\n",
        "    # here amax is an inbuilt function in numpy library which returns max value present in array\n",
        "op_obj = MaxVal(np.array([8, 9, 8]))\n",
        "print(op_obj.MaximumValue())"
      ],
      "execution_count": 4,
      "outputs": [
        {
          "output_type": "stream",
          "name": "stdout",
          "text": [
            "9\n"
          ]
        }
      ]
    },
    {
      "cell_type": "code",
      "metadata": {
        "colab": {
          "base_uri": "https://localhost:8080/"
        },
        "id": "WU-b5Lo429Ty",
        "outputId": "dfb933dc-2fe8-4d02-8848-59033854a519"
      },
      "source": [
        "# Problem 5 : \n",
        "# Select the best choice  - getAnimalGroup(animal),getAnimalGroup(Fish),getAnimalGroup(self) \n",
        "\n",
        "class Shark:\n",
        "    def __init__(self):\n",
        "    \tself.animal_group = 'Fish'\n",
        "    def getAnimalGroup(self):\n",
        "    \treturn self.animal_group\n",
        "shark = Shark()\n",
        "print(\"Group:\",shark.getAnimalGroup())"
      ],
      "execution_count": 5,
      "outputs": [
        {
          "output_type": "stream",
          "name": "stdout",
          "text": [
            "Group: Fish\n"
          ]
        }
      ]
    },
    {
      "cell_type": "code",
      "metadata": {
        "colab": {
          "base_uri": "https://localhost:8080/"
        },
        "id": "86c9Pq2t3RMp",
        "outputId": "c0f512b7-9c92-4365-8def-2af7cc72b5a4"
      },
      "source": [
        "#Problem 6 : \n",
        "class Lion:\n",
        "    def __init__(self):\n",
        "      self.animal_group = 'Mammal'\n",
        "      self.sound = 'Roar!!!'     \n",
        "    def MakeSound(self):\n",
        "      print(self.sound)    \n",
        "lion_object =  Lion()\n",
        "lion_object = lion_object.MakeSound()"
      ],
      "execution_count": 6,
      "outputs": [
        {
          "output_type": "stream",
          "name": "stdout",
          "text": [
            "Roar!!!\n"
          ]
        }
      ]
    },
    {
      "cell_type": "markdown",
      "metadata": {
        "id": "dGPmoWWE3euj"
      },
      "source": [
        "Problem 7 : Class Variables are usually referred as ...while Class Functions are usually referred as...\n",
        "\n",
        "Answer : Attributes & Methods"
      ]
    },
    {
      "cell_type": "markdown",
      "metadata": {
        "id": "P7SDIAf436-D"
      },
      "source": [
        "Problem 8 : Which of the following is NOT an Object in Python?\n",
        "\n",
        "List,Data Frames, Variable, Everything is an object in python\n",
        "\n",
        "Answer : Everything is an object in python"
      ]
    },
    {
      "cell_type": "code",
      "metadata": {
        "id": "M0w2qDZY3cXw"
      },
      "source": [
        "#problems : 9 Fill in the blanks and complete the code\n",
        "import pandas as pd\n",
        "\n",
        "class DataShell:\n",
        "    def __init__(self, inputFile):\n",
        "        self.file = inputFile\n",
        "        self.df = None \n",
        "\n",
        "    def store_df_from_csv(self):    \n",
        "       df = pd.read_csv(self.file)\n",
        "data_shell = DataShell(filepath)\n",
        "data_shell.store_df_from_csv()\n",
        "data_shell.df.head(3)"
      ],
      "execution_count": null,
      "outputs": []
    },
    {
      "cell_type": "markdown",
      "metadata": {
        "id": "T1Y5fCzg4zw4"
      },
      "source": [
        "problem 10 :\n",
        "\n",
        "Given an object is created using the constructor of a certain class, we can say that:\n",
        "\n",
        "1.Object is an instance of a Class\n",
        "\n",
        "2.Object is a method of a Class\n",
        "\n",
        "3.Class is an instance of an Object\n",
        "\n",
        "4.Object is attribute of a Class\n",
        "\n",
        "Answer : 1 (Object is an instance of a Class)"
      ]
    },
    {
      "cell_type": "code",
      "metadata": {
        "id": "PLxmTF1P4dlE"
      },
      "source": [
        "# problem 11 :Complete the Code \n",
        "class DataShell:\n",
        "    def __init__(self, filename):\n",
        "        self.file = filename\n",
        "    def create_datashell(self):\n",
        "        self.array = [1:,1:]\n",
        "        return self.array\n",
        "      \n",
        "data_obj = DataShell(filepath)\n",
        "data_obj.create_datashell()\n"
      ],
      "execution_count": null,
      "outputs": []
    },
    {
      "cell_type": "code",
      "metadata": {
        "id": "-_fDSnZi6dtg"
      },
      "source": [
        "# Problem 12 : Complete the code\n",
        "# Select - self, Vertebrate, Mammal, __init__\n",
        "\n",
        "class Vertebrate:\n",
        "    spinal_cord = True\n",
        "    def __init__(self, name):\n",
        "        self.name = name\n",
        "        \n",
        "class Mammal(Vertebrate):\n",
        "    def __init__(self, name):\n",
        "        self.name = name\n",
        "        # Answer: self\n",
        "        self.can_lay_egg = False\n",
        "  "
      ],
      "execution_count": null,
      "outputs": []
    },
    {
      "cell_type": "code",
      "metadata": {
        "colab": {
          "base_uri": "https://localhost:8080/"
        },
        "id": "wwHgfoaO6r3R",
        "outputId": "3524356c-9ac9-423d-bdbf-aa043159c7df"
      },
      "source": [
        "# problem 13 : Complete the Code \n",
        "class ListClass:\n",
        "  \n",
        "  def __init__(self,l1):\n",
        "    self.new_list = l1\n",
        "    print('List Object Created')\n",
        "    \n",
        "# Instantiate the Class\n",
        "list_object = ListClass([4, 8, 0])"
      ],
      "execution_count": 14,
      "outputs": [
        {
          "output_type": "stream",
          "name": "stdout",
          "text": [
            "List Object Created\n"
          ]
        }
      ]
    },
    {
      "cell_type": "code",
      "metadata": {
        "colab": {
          "base_uri": "https://localhost:8080/"
        },
        "id": "5wgIXjXx6-qo",
        "outputId": "0c9be4f9-e489-495a-f366-31cab9ca0df0"
      },
      "source": [
        "# problem 14 : what is the output?\n",
        "def concatA(a,b):\n",
        "  return a + b\n",
        "\n",
        "print(concatA([9, 2, 1],[4, 8, 7])) # it will combine the both list "
      ],
      "execution_count": 15,
      "outputs": [
        {
          "output_type": "stream",
          "name": "stdout",
          "text": [
            "[9, 2, 1, 4, 8, 7]\n"
          ]
        }
      ]
    },
    {
      "cell_type": "markdown",
      "metadata": {
        "id": "aba7DmuG7YsL"
      },
      "source": [
        "Problem 15:\n",
        "\n",
        "A class that takes elements of other classes to create a more complex class is called \n",
        "\n",
        "Answer : SubClass"
      ]
    },
    {
      "cell_type": "code",
      "metadata": {
        "colab": {
          "base_uri": "https://localhost:8080/"
        },
        "id": "GzZBHkFX7UD8",
        "outputId": "26876677-045d-413d-cd5e-76bec6551857"
      },
      "source": [
        "# Problem 16 : complete the code\n",
        "# output is OOP course : Mandatory for Third Semester\n",
        "\n",
        "\n",
        "class OOP:\n",
        "    def __init__(self, name):\n",
        "      self.name = name      \n",
        "    def result(self):\n",
        "        print(self.name,'Mandatory for Third Semester  ')\n",
        "OOP_ob = OOP('OOP Course :')\n",
        "OOP_ob.result()"
      ],
      "execution_count": 16,
      "outputs": [
        {
          "output_type": "stream",
          "name": "stdout",
          "text": [
            "OOP Course : Mandatory for Third Semester  \n"
          ]
        }
      ]
    },
    {
      "cell_type": "code",
      "metadata": {
        "colab": {
          "base_uri": "https://localhost:8080/"
        },
        "id": "9niXMttl8CXy",
        "outputId": "d3135568-94e7-4859-dee8-1bf63ffde05a"
      },
      "source": [
        "# Problem 17 : Complete the Code :\n",
        "# output: The Bear is angry: Roar\n",
        "\n",
        "class Bear: \n",
        "    def __init__(self):\n",
        "        self.animal_group = 'Mammal'\n",
        "        self.sound = 'Roar!!!'    \n",
        "    def getGroup(self):\n",
        "        return self.animal_group\n",
        "    def getSound(self):\n",
        "        return self.sound\n",
        "      \n",
        "bear_obj = Bear()\n",
        "print(\"The Bear is angry:\", bear_obj.getSound())"
      ],
      "execution_count": 18,
      "outputs": [
        {
          "output_type": "stream",
          "name": "stdout",
          "text": [
            "The Bear is angry: Roar!!!\n"
          ]
        }
      ]
    },
    {
      "cell_type": "code",
      "metadata": {
        "colab": {
          "base_uri": "https://localhost:8080/"
        },
        "id": "9eHxUb3e8Xl1",
        "outputId": "bff2a3d9-75fb-4f23-e654-d8f694f81236"
      },
      "source": [
        "# problem 18 : Complete the Code\n",
        "# Outout :  We are OOP Classmates\n",
        "\n",
        "class SimpleClass:\n",
        "\tprint('We are OOP Classmates')\n",
        "\tpass\n",
        "\n",
        "# Create an object with SimpleClass\n",
        "simple_object =  SimpleClass()"
      ],
      "execution_count": 19,
      "outputs": [
        {
          "output_type": "stream",
          "name": "stdout",
          "text": [
            "We are OOP Classmates\n"
          ]
        }
      ]
    },
    {
      "cell_type": "code",
      "metadata": {
        "colab": {
          "base_uri": "https://localhost:8080/"
        },
        "id": "m3PI81Uz8jZ3",
        "outputId": "dd2df9ea-a49e-4a4b-9b66-c4e6a4f383ef"
      },
      "source": [
        "# Problem 19 : Complete the code\n",
        "#Output : Croak!!!\n",
        "\n",
        "class Frog:\n",
        "    def __init__(self):\n",
        "      self.type = 'Amphibian'\n",
        "      self.sound = 'Croak!!!' \n",
        "    def MakeSound(self):\n",
        "      print(self.sound)\n",
        "frog_object =  Frog()\n",
        "frog_object = frog_object.MakeSound()"
      ],
      "execution_count": 20,
      "outputs": [
        {
          "output_type": "stream",
          "name": "stdout",
          "text": [
            "Croak!!!\n"
          ]
        }
      ]
    },
    {
      "cell_type": "code",
      "metadata": {
        "id": "XoIOaJjJ9IVC"
      },
      "source": [
        "# problem 20 : Complete the code\n",
        "# Output : \n",
        "class Vertebrate:\n",
        "    spinal_cord = True\n",
        "    def __init__(self, name):\n",
        "        self.name = name\n",
        "class Mammal(Vertebrate):\n",
        "    def __init__(self, name, kind):\n",
        "        self.animal_type = kind\n",
        "        self.can_lay_egg = False\n",
        "class Bird(Vertebrate):\n",
        "    def __init__(self, name, kind):\n",
        "        self.animal_type = kind\n",
        "        self.can_lay_egg = True"
      ],
      "execution_count": 23,
      "outputs": []
    }
  ]
}