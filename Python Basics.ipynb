{
  "nbformat": 4,
  "nbformat_minor": 0,
  "metadata": {
    "colab": {
      "name": "Untitled0.ipynb",
      "provenance": [],
      "authorship_tag": "ABX9TyPAW0HVXZ2kKvE0eMILv83H",
      "include_colab_link": true
    },
    "kernelspec": {
      "name": "python3",
      "display_name": "Python 3"
    },
    "language_info": {
      "name": "python"
    }
  },
  "cells": [
    {
      "cell_type": "markdown",
      "metadata": {
        "id": "view-in-github",
        "colab_type": "text"
      },
      "source": [
        "<a href=\"https://colab.research.google.com/github/Brij2003/Python-Basics/blob/main/Python%20Basics.ipynb\" target=\"_parent\"><img src=\"https://colab.research.google.com/assets/colab-badge.svg\" alt=\"Open In Colab\"/></a>"
      ]
    },
    {
      "cell_type": "code",
      "metadata": {
        "id": "OvG8Q6yOT7Sq",
        "colab": {
          "base_uri": "https://localhost:8080/"
        },
        "outputId": "1fa3860e-b3c4-4b3c-b23c-b1bf6fcc20d5"
      },
      "source": [
        "print(\"Hello Python\")"
      ],
      "execution_count": 12,
      "outputs": [
        {
          "output_type": "stream",
          "text": [
            "Hello Python\n"
          ],
          "name": "stdout"
        }
      ]
    },
    {
      "cell_type": "markdown",
      "metadata": {
        "id": "d8mZ95Xffvpj"
      },
      "source": [
        "In python single line comment is written by using '#' and multiline by using  \" \" \" or \" \" "
      ]
    },
    {
      "cell_type": "code",
      "metadata": {
        "id": "l-SpliHeedPx"
      },
      "source": [
        "#Hello every one this is python Singleline comment\n",
        "\"\"\"Hello every one\n",
        "I am Brij Vaghani \n",
        "And this is python Multiline comment\"\"\""
      ],
      "execution_count": null,
      "outputs": []
    },
    {
      "cell_type": "markdown",
      "metadata": {
        "id": "UmeLLO9hfjbK"
      },
      "source": [
        "def is a key word to define a function in python"
      ]
    },
    {
      "cell_type": "code",
      "metadata": {
        "colab": {
          "base_uri": "https://localhost:8080/"
        },
        "id": "j_Cs4zM0e_wM",
        "outputId": "8a22d3e9-ff94-44d2-917a-e91e55ac3a9e"
      },
      "source": [
        "def fun(n):\n",
        "  if(n == 0):\n",
        "    return 1\n",
        "  return n * fun(n-1)"
      ],
      "execution_count": 2,
      "outputs": [
        {
          "output_type": "stream",
          "text": [
            "120\n"
          ],
          "name": "stdout"
        }
      ]
    },
    {
      "cell_type": "markdown",
      "metadata": {
        "id": "YAoJSHSziFfF"
      },
      "source": [
        "Type is a inbuild function used to check the data type of a variable\n"
      ]
    },
    {
      "cell_type": "code",
      "metadata": {
        "colab": {
          "base_uri": "https://localhost:8080/"
        },
        "id": "JzxfJwuwh_rt",
        "outputId": "1dc4514a-aebf-43fd-c80f-b63f2de8e2e0"
      },
      "source": [
        "a = \"Brij\"\n",
        "print(a)\n",
        "type(a)"
      ],
      "execution_count": 5,
      "outputs": [
        {
          "output_type": "stream",
          "text": [
            "Brij\n"
          ],
          "name": "stdout"
        },
        {
          "output_type": "execute_result",
          "data": {
            "text/plain": [
              "str"
            ]
          },
          "metadata": {},
          "execution_count": 5
        }
      ]
    },
    {
      "cell_type": "code",
      "metadata": {
        "colab": {
          "base_uri": "https://localhost:8080/"
        },
        "id": "7FbkKmyRixTs",
        "outputId": "8c3626cf-61d9-40ca-d742-cdec5c0ae57a"
      },
      "source": [
        "a = b = c = 100\n",
        "print(a,b,c)\n",
        "a,b,c = 10,20,30\n",
        "print(a,b,c)\n",
        "a=b=c=10,20,30               \n",
        "print(a,b,c)"
      ],
      "execution_count": 6,
      "outputs": [
        {
          "output_type": "stream",
          "text": [
            "100 100 100\n",
            "10 20 30\n",
            "(4, 5, 6) (4, 5, 6) (4, 5, 6)\n"
          ],
          "name": "stdout"
        }
      ]
    },
    {
      "cell_type": "markdown",
      "metadata": {
        "id": "gJ4RTBB2jaIm"
      },
      "source": [
        "There are two types of variables in Python Local variable & Global variable"
      ]
    },
    {
      "cell_type": "code",
      "metadata": {
        "colab": {
          "base_uri": "https://localhost:8080/",
          "height": 246
        },
        "id": "1zlTKsSljhKk",
        "outputId": "eb55edf2-5ce7-4a5e-d167-b65a78a0f1b3"
      },
      "source": [
        "a = 10\n",
        "def fun():\n",
        "  z = 20\n",
        "  print(a*a)\n",
        "  print(z)          #b is only acessed in function fun \n",
        "\n",
        "print(a)\n",
        "fun()\n",
        "print(z)"
      ],
      "execution_count": 15,
      "outputs": [
        {
          "output_type": "stream",
          "text": [
            "10\n",
            "100\n",
            "20\n"
          ],
          "name": "stdout"
        },
        {
          "output_type": "error",
          "ename": "NameError",
          "evalue": "ignored",
          "traceback": [
            "\u001b[0;31m---------------------------------------------------------------------------\u001b[0m",
            "\u001b[0;31mNameError\u001b[0m                                 Traceback (most recent call last)",
            "\u001b[0;32m<ipython-input-15-00518bb3351e>\u001b[0m in \u001b[0;36m<module>\u001b[0;34m()\u001b[0m\n\u001b[1;32m      7\u001b[0m \u001b[0mprint\u001b[0m\u001b[0;34m(\u001b[0m\u001b[0ma\u001b[0m\u001b[0;34m)\u001b[0m\u001b[0;34m\u001b[0m\u001b[0;34m\u001b[0m\u001b[0m\n\u001b[1;32m      8\u001b[0m \u001b[0mfun\u001b[0m\u001b[0;34m(\u001b[0m\u001b[0;34m)\u001b[0m\u001b[0;34m\u001b[0m\u001b[0;34m\u001b[0m\u001b[0m\n\u001b[0;32m----> 9\u001b[0;31m \u001b[0mprint\u001b[0m\u001b[0;34m(\u001b[0m\u001b[0mz\u001b[0m\u001b[0;34m)\u001b[0m\u001b[0;34m\u001b[0m\u001b[0;34m\u001b[0m\u001b[0m\n\u001b[0m",
            "\u001b[0;31mNameError\u001b[0m: name 'z' is not defined"
          ]
        }
      ]
    },
    {
      "cell_type": "code",
      "metadata": {
        "colab": {
          "base_uri": "https://localhost:8080/"
        },
        "id": "TsdPA8XolCmu",
        "outputId": "65eb7f1c-5c09-48d3-df38-f3b5fda73939"
      },
      "source": [
        "a = 10\n",
        "def fun():\n",
        "  global z\n",
        "  z = 20\n",
        "  print(a*a)\n",
        "  print(z)          #b is only acessed in function fun \n",
        "\n",
        "print(a)\n",
        "fun()\n",
        "print(z)"
      ],
      "execution_count": 19,
      "outputs": [
        {
          "output_type": "stream",
          "text": [
            "10\n",
            "100\n",
            "20\n",
            "20\n"
          ],
          "name": "stdout"
        }
      ]
    },
    {
      "cell_type": "markdown",
      "metadata": {
        "id": "sKtv_7K2lzIS"
      },
      "source": [
        "We can also type cast the given data"
      ]
    },
    {
      "cell_type": "code",
      "metadata": {
        "colab": {
          "base_uri": "https://localhost:8080/"
        },
        "id": "9Mf010DQlibT",
        "outputId": "1e6b4ba2-9ecc-4c50-8357-e90722700252"
      },
      "source": [
        "a = 5\n",
        "b = 2\n",
        "c = float(a/b)\n",
        "print(c)\n",
        "c = int(a/b)\n",
        "print(c)"
      ],
      "execution_count": 21,
      "outputs": [
        {
          "output_type": "stream",
          "text": [
            "2.5\n",
            "2\n"
          ],
          "name": "stdout"
        }
      ]
    },
    {
      "cell_type": "code",
      "metadata": {
        "colab": {
          "base_uri": "https://localhost:8080/"
        },
        "id": "gTSpcwLRmGwe",
        "outputId": "a9a13abe-246b-4e3d-f7bb-40ae3f72bbc7"
      },
      "source": [
        "a = \"Hello\"\n",
        "b = \"Python\"\n",
        "print(a + b)\n",
        "c = a + \" \" + b\n",
        "print(c)"
      ],
      "execution_count": 23,
      "outputs": [
        {
          "output_type": "stream",
          "text": [
            "HelloPython\n",
            "Hello Python\n"
          ],
          "name": "stdout"
        }
      ]
    },
    {
      "cell_type": "code",
      "metadata": {
        "colab": {
          "base_uri": "https://localhost:8080/"
        },
        "id": "ygjmTNlzmgGk",
        "outputId": "6a559493-2d22-4a43-a15f-9cae249ae16c"
      },
      "source": [
        "a = [1,2,3,4,5]\n",
        "b = ['a','b','c','d']\n",
        "print(a[1:3])\n",
        "print(a[-1])\n",
        "print(a[:])\n",
        "print(b)\n",
        "print(a + b)\n",
        "b.append('e')\n",
        "print(b)\n",
        "a.pop(3)\n",
        "print(a)"
      ],
      "execution_count": 30,
      "outputs": [
        {
          "output_type": "stream",
          "text": [
            "[2, 3]\n",
            "5\n",
            "[1, 2, 3, 4, 5]\n",
            "['a', 'b', 'c', 'd']\n",
            "[1, 2, 3, 4, 5, 'a', 'b', 'c', 'd']\n",
            "['a', 'b', 'c', 'd', 'e']\n",
            "[1, 2, 3, 5]\n"
          ],
          "name": "stdout"
        }
      ]
    },
    {
      "cell_type": "markdown",
      "metadata": {
        "id": "QmtXnHWTgxHF"
      },
      "source": [
        "// is used as a floor function\n",
        "** is used as a power operator   "
      ]
    },
    {
      "cell_type": "code",
      "metadata": {
        "id": "ZyCFwUvUK361",
        "colab": {
          "base_uri": "https://localhost:8080/"
        },
        "outputId": "a82f689e-9adc-4500-b42b-d8a1a3647e78"
      },
      "source": [
        "m = 29\n",
        "n = 6\n",
        "print('m + n =',m+n)\n",
        "print('m - n =',m-n)\n",
        "print('m * n =',m*n)\n",
        "print('m / n =',m/n)\n",
        "print('m // n =',m//n)\n",
        "print('m ** n =',m**n)"
      ],
      "execution_count": null,
      "outputs": [
        {
          "output_type": "stream",
          "text": [
            "m + n = 19\n",
            "m - n = 11\n",
            "m * n = 60\n",
            "m / n = 3.75\n",
            "m // n = 3\n",
            "m ** n = 50625\n"
          ],
          "name": "stdout"
        }
      ]
    },
    {
      "cell_type": "code",
      "metadata": {
        "colab": {
          "base_uri": "https://localhost:8080/"
        },
        "id": "JkuO5X9nLxsp",
        "outputId": "4bd7b5fc-2893-47d1-bf56-3315a6b5b51f"
      },
      "source": [
        "x = True\n",
        "y = False\n",
        "print(\"x and y is\",x and y)\n",
        "print(\"x or y is\",x or y)\n",
        "print(\"not x is\",not x)"
      ],
      "execution_count": null,
      "outputs": [
        {
          "output_type": "stream",
          "text": [
            "x and y is False\n",
            "x or y is True\n",
            "not x is False\n"
          ],
          "name": "stdout"
        }
      ]
    },
    {
      "cell_type": "code",
      "metadata": {
        "id": "tCq21AYRMrOT",
        "colab": {
          "base_uri": "https://localhost:8080/"
        },
        "outputId": "2e7583dc-0adf-4386-e974-db7f0312f216"
      },
      "source": [
        "x = \"Hello Brij\"\n",
        "y = {1:'a',2:'b',3:'c',4:'d'}\n",
        "\n",
        "print('H' in x)\n",
        "print('hello' not in x)\n",
        "print(1 in y)\n",
        "print('a' in y)\n",
        "print(y)"
      ],
      "execution_count": 3,
      "outputs": [
        {
          "output_type": "stream",
          "text": [
            "True\n",
            "True\n",
            "True\n",
            "False\n",
            "{1: 'a', 2: 'b', 3: 'c', 4: 'd'}\n"
          ],
          "name": "stdout"
        }
      ]
    },
    {
      "cell_type": "code",
      "metadata": {
        "colab": {
          "base_uri": "https://localhost:8080/"
        },
        "id": "schN69EPoYgX",
        "outputId": "9b1e5b15-4142-4403-8e5b-347c01234d39"
      },
      "source": [
        "a = int(input(\"Enter any number:\"))\n",
        "print(a)"
      ],
      "execution_count": 32,
      "outputs": [
        {
          "output_type": "stream",
          "text": [
            "Enter any number:10\n",
            "10\n"
          ],
          "name": "stdout"
        }
      ]
    },
    {
      "cell_type": "code",
      "metadata": {
        "id": "OzjlOxq-qGyL"
      },
      "source": [
        "factorial of a given number using for loop"
      ],
      "execution_count": null,
      "outputs": []
    },
    {
      "cell_type": "code",
      "metadata": {
        "colab": {
          "base_uri": "https://localhost:8080/"
        },
        "id": "3n1hGyY9ot6F",
        "outputId": "2d184ca1-0fc2-467d-baee-0843796a2de2"
      },
      "source": [
        "a = 5\n",
        "ans = 1\n",
        "for i in range(2,a + 1):\n",
        "  ans = ans * i\n",
        "\n",
        "\n",
        "print(ans)\n"
      ],
      "execution_count": 36,
      "outputs": [
        {
          "output_type": "stream",
          "text": [
            "120\n"
          ],
          "name": "stdout"
        }
      ]
    },
    {
      "cell_type": "code",
      "metadata": {
        "id": "bPg-Av_OqMW4"
      },
      "source": [
        ""
      ],
      "execution_count": null,
      "outputs": []
    }
  ]
}